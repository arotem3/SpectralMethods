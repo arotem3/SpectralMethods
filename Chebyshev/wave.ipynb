{
 "cells": [
  {
   "cell_type": "markdown",
   "metadata": {},
   "source": [
    "# 1D Wave Equation with the Chebyshev Spectral Method\n",
    "\n",
    "Consider the wave equation in one spatial dimension and time:\n",
    "$$\\frac{\\partial^2 u}{\\partial t^2} = \\frac{\\partial}{\\partial x}\\left( a(x) \\frac{\\partial u}{\\partial x} \\right), \\qquad x\\in[0, 1], \\; t > 0.$$\n",
    "Here $a(x) > 0$ models the effective squared wave speed which is assumed to vary in space but not in time. For example, the speed of sound in solids is typically directly related to the density of the material, hence this wave equation could be modeling sound waves propagating through a long solid rod which varies in density along its length.\n",
    "\n",
    "The solution $u$ is subject to time dependant inhomogeneous Dirichlet boundary conditions at $x=0$,\n",
    "$$u(0, t) = h(t),$$\n",
    "and homogeneous Robin conditions at $x = 1$,\n",
    "$$\\frac{\\partial u}{\\partial t} + a\\frac{\\partial u}{\\partial x}\\bigg|_{x = 1} = 0.$$\n",
    "The boundary condition at $x = 1$ is an approximate outflow condition, that is, the wave is assumed to flow freely out of the domain at this end point.\n",
    "\n",
    "Finally, the solution $u$ and its velocity $u_t$ is known at $t = 0$, i.e. we have the initial conditions\n",
    "$$u(x, 0) = f(x), \\qquad u_t(x, 0) = g(x).$$"
   ]
  },
  {
   "cell_type": "markdown",
   "metadata": {},
   "source": [
    "## Method of Lines\n",
    "\n",
    "The solution depends on the spatial variable $x$ and the time variable $t$. To numerically approximate the solution to this partial differential equation we will treat these variables separately. First we will approximate the solution in space by an interpolating polynomial. This will turn spatial derivatives to matrix-vector multiplication and effectively turn the PDE into _a system of ordinary differential equations_, e.g.\n",
    "$$\\ddot{\\mathbf{u}} = L \\mathbf{u}$$\n",
    "where $\\mathbf{u}$ is the vector of solution values on a fixed grid, and $L$ is a matrix. Notably, $\\mathbf{u}$ depents on time; the notation $\\ddot{\\mathbf{u}}$ is the second derivative in time of $\\mathbf{u}$.\n",
    "Rather than using a spectral method in time, it is more efficient (perhaps at the cost of accuracy) to advance the solution one small time step at a time (from $t$ to $t+\\Delta t$ for small $\\Delta t$).\n",
    "This strategy of treating the variables of the differential equation separately is called _the method of lines_. It is a very natural approach for time dependant problem like the wave equation because changes in time are inherently progressive/dynamic whereas variation in space is inherently structured/geometric."
   ]
  },
  {
   "cell_type": "markdown",
   "metadata": {},
   "source": [
    "## Spatial Discretization\n",
    "\n",
    "Let $x_k$ for $k=0,1,\\dots,N$ be the Chebyshev Lobatto grid on $[0, 1]$. Let $u_k \\approx u(x_k, t)$ and collect the solution values in the vector $\\vec{u} = \\begin{pmatrix} u_0 & u_1 & \\cdots & u_N \\end{pmatrix}$. Let $\\mathcal{D}$ be the differentiation matrix associated with the grid $x_k$. Substituting $\\vec{u}$ for $u$ and $\\mathcal{D}$ for $\\frac{\\partial}{\\partial x}$ in the wave equation we get:\n",
    "$$\\frac{d^2 \\vec{u}}{dt^2} = \\mathcal{D}\\left( A \\mathcal{D} \\vec{u}\\right).$$\n",
    "Here $A$ is a diagonal matrix such that $A_{kk} = a(x_k)$.\n",
    "We impose the Robin condition similarly to how we impose Neumann conditions. Define\n",
    "$$\\hat{\\mathcal{D}} = \\left( I - \\mathbf{e}_N \\mathbf{e}_N^T \\right)\\mathcal{D},$$\n",
    "Then the boundary conditions imply that:\n",
    "$$\\mathcal{D} \\vec{u} = \\hat{\\mathcal{D}}\\vec{u} + \\left(\\frac{\\partial u}{\\partial x}\\bigg|_{x=1}\\right) \\mathbf{e}_N = \\hat{\\mathcal{D}}\\vec{u} + \\left(-\\frac{1}{a}\\frac{\\partial u}{\\partial t}\\bigg|_{x=1}\\right)\\mathbf{e}_N = \\hat{\\mathcal{D}}\\vec{u} - \\frac{1}{a(1)}\\mathbf{e}_N \\mathbf{e_N}^T \\frac{d \\vec{u}}{dt}.$$\n",
    "We substitute this into the differential equation:\n",
    "$$\\frac{d^2\\vec{u}}{dt^2} = \\mathcal{D} A \\left(\\hat{\\mathcal{D}} \\vec{u} - \\frac{1}{a(1)}\\mathbf{e}_N \\mathbf{e}_N^T \\frac{d\\vec{u}}{dt} \\right) = \\mathcal{D}A\\hat{\\mathcal{D}}\\vec{u} - \\mathcal{D}\\mathbf{e}_N\\mathbf{e}_N^T \\frac{d\\vec{u}}{dt} =: \\mathcal{L}\\vec{u} - \\mathcal{H}\\frac{d\\vec{u}}{dt}.$$\n",
    "Next, we eliminate the Dirichlet boundary condition. Let $P$ be the columns of the identity matrix exluding the first one, $\\mathbf{e}_0$. Let $\\mathbf{u}$ be all the values in $\\vec{u}$ excluding $u_0$, i.e. $\\mathbf{u} = P^T \\vec{u}$. Then we can define the splitting:\n",
    "$$\\vec{u} = P \\mathbf{u} + u_0\\mathbf{e}_0.$$\n",
    "Next, we plug this splitting into the differential equation and multiply by $P^T$:\n",
    "$$\\frac{d^2 \\mathbf{u}}{dt^2} = P^T \\mathcal{L} (P \\mathbf{u} + u_0 \\mathbf{e}_0) - P^T \\mathcal{H} (P \\frac{d\\mathbf{u}}{dt} + \\frac{d u_0}{dt} \\mathbf{e}_0) = (P^T \\mathcal{L} P) \\mathbf{u} + u_0 (P^T \\mathcal{L} \\mathbf{e}_0) - (P^T \\mathcal{H} P) \\frac{d\\mathbf{u}}{dt} - \\frac{d u_0}{dt} (P^T\\mathcal{H} \\mathbf{e}_0)$$\n",
    "Define $\\mathbf{L} = P^T \\mathcal{L} P$, $\\mathbf{H} = P^T \\mathcal{H} P$, and $\\mathbf{q} = P^T \\mathcal{L} \\mathbf{e}_0$. Note that $P^T\\mathcal{H} \\mathbf{e}_0 = P^T \\mathcal{D}\\mathbf{e}_N\\mathbf{e}_N^T \\mathbf{e}_0 = 0$ (because $\\mathbf{e}_N^T \\mathbf{e}_0 = 0$) and from the Dirichlet condition we have $u_0 = h(t)$. All in all, the differential equation for the interior values $\\mathbf{u}$ becomes\n",
    "$$\\ddot{\\mathbf{u}} + \\mathbf{H}\\dot{\\mathbf{u}} - \\mathbf{L}\\mathbf{u} = h(t) \\mathbf{q}.$$\n",
    "Where, again for emphasis,\n",
    "$$\\mathbf{L} = P^T \\mathcal{D} A (I - \\mathbf{e}_N\\mathbf{e}_N^T)\\mathcal{D} P,$$\n",
    "$$\\mathbf{H} = P^T \\mathcal{D}\\mathbf{e}_N\\mathbf{e}_N^T P,$$\n",
    "and\n",
    "$$\\mathbf{q} = P^T \\mathcal{D} A (I - \\mathbf{e}_N\\mathbf{e}_N^T)\\mathcal{D} \\mathbf{e}_0. $$"
   ]
  },
  {
   "cell_type": "markdown",
   "metadata": {},
   "source": [
    "#### Notes\n",
    "Although in the code we will evaluate all of these expressions exactly as they appear here, it is worth noting that an efficient implementation will make note of the following:\n",
    "* Multiplication on the left by $P^T$ selects all but the first row of a matrix/vector.\n",
    "* Multiplication on the right by $P$ selects all but the first column of a matrix.\n",
    "* Multiplication on the left by $I - \\mathbf{e}_N\\mathbf{e}_N^T$ is equivalent to setting all entries in the last row of a matrix to zero.\n",
    "* $\\mathbf{H}$ is a rank 1 matrix. Namely, $\\mathbf{H} = (P^T \\mathcal{D}\\mathcal{e}_N)(P^T\\mathcal{e}_N)^T$, thus the product $\\mathbf{H u}$ is equivalent to scaling the last column of $\\mathcal{D}$ by the last row of $\\mathbf{u}$ and extracting all but the first element row of the result.\n",
    "* Multiplication by $\\mathcal{D}$ can be efficiently computed using the [fast cosine transform](https://en.wikipedia.org/wiki/Fast_Fourier_transform)."
   ]
  },
  {
   "cell_type": "markdown",
   "metadata": {},
   "source": [
    "## Time Integration\n",
    "\n",
    "To solve the differential equation in time we approximate the second derivative with the finite difference estimate:\n",
    "$$\\ddot{f}(t + \\Delta t) \\approx \\frac{f(t+\\Delta t) - 2f(t) + f(t - \\Delta t)}{\\Delta t^2},$$\n",
    "and similarly for the first derivative:\n",
    "$$\\dot{f}(t + \\Delta t) \\approx \\frac{3 f(t+\\Delta t) - 4f(t+\\Delta t) + f(t-\\Delta t)}{2\\Delta t}.$$"
   ]
  },
  {
   "cell_type": "markdown",
   "metadata": {},
   "source": [
    "We use these estimates to evaluate the differential equation at $t+\\Delta t$ to get:\n",
    "$$\\frac{\\mathbf{u}^{n+1} - 2\\mathbf{u}^n + \\mathbf{u}^{n-1}}{\\Delta t^2} + \\mathbf{H} \\left(\\frac{3 \\mathbf{u}^{n+1} - 4\\mathbf{u}^n + \\mathbf{u}^{n-1}}{2\\Delta t}\\right) - \\mathbf{L} \\mathbf{u}^{n+1} = h^{n+1}\\mathbf{q}.$$\n",
    "Here we've used the notation $\\mathbf{u}^{n} = \\mathbf{u}(t)$ and $\\mathbf{u}^{n+1} = \\mathbf{u}(t + \\Delta t)$, that is, $\\mathbf{u}^n$ is value of $\\mathbf{u}$ at the $n$-th time step. Rearanging yields:\n",
    "$$\\left(I + \\frac{3}{2}\\Delta t \\mathbf{H} - \\Delta t^2 \\mathbf{L} \\right)\\mathbf{u}^{n+1} - 2(I + \\Delta t \\mathbf{H})\\mathbf{u}^n + \\left( I + \\frac{1}{2}\\Delta t \\mathbf{H} \\right)\\mathbf{u}^{n-1} = \\Delta t^2 h^{n+1}\\mathbf{q}.$$\n",
    "Define\n",
    "$$B_0 = \\left(I + \\frac{3}{2}\\Delta t \\mathbf{H} - \\Delta t^2 \\mathbf{L}\\right)^{-1}(I + \\Delta t \\mathbf{H}),$$\n",
    "$$B_1 = \\left(I + \\frac{3}{2}\\Delta t \\mathbf{H} - \\Delta t^2 \\mathbf{L} \\right)^{-1}\\left( I + \\frac{1}{2}\\Delta t \\mathbf{H} \\right),$$\n",
    "and\n",
    "$$\\mathbf{r} = \\left(I + \\frac{3}{2}\\Delta t \\mathbf{H} - \\Delta t^2 \\mathbf{L} \\right)^{-1}\\mathbf{q}.$$\n",
    "Then\n",
    "$$\\mathbf{u}^{n+1} = 2 B_0 \\mathbf{u}^{n} - B_1 \\mathbf{u}^{n-1} + \\Delta t^2 h^{n+1} \\mathbf{r}.$$"
   ]
  },
  {
   "cell_type": "markdown",
   "metadata": {},
   "source": [
    "Note that to compute the solution at the next time step $\\mathbf{u}^{n+1}$, we need to know the solution at the current time $\\mathbf{u}^{n}$ and one previous time step $\\mathbf{u}^{n-1}$. Since for the first time step we do not have a previous step, we must take a different approach. Namely, since we know the derivative to $t=0$, we use the finite difference approximations:\n",
    "$$\\ddot{f}(t + \\Delta t) \\approx 2\\frac{f(t+\\Delta t) - f(t) - \\Delta t \\dot{f}(t)}{\\Delta t^2}, \\qquad \\dot{f}(t + \\Delta t) \\approx \\frac{2 f(t+\\Delta t) - 2 f(t) - \\Delta t f'(t)}{\\Delta t}.$$\n",
    "We substitute these approximations into the differential equation at $t = 0 + \\Delta t$ to get:\n",
    "$$2\\frac{\\mathbf{u}^{1} - \\mathbf{u}^0 - \\Delta t \\dot{\\mathbf{u}}^0}{\\Delta t^2} + \\mathbf{H} \\left( \\frac{2 \\mathbf{u}^1 - 2 \\mathbf{u}^0 - \\Delta t \\dot{\\mathbf{u}}^0}{\\Delta t} \\right) - \\mathbf{L}\\mathbf{u}^{1} = h^1 \\mathbf{q}.$$\n",
    "Now we rearange for $\\mathbf{u}^1$ and use the initial conditions $\\mathbf{u}^0 = \\mathbf{f}$ and $\\dot{\\mathbf{u}}^0 = \\mathbf{g}$:\n",
    "$$\\left( I + \\Delta t \\mathbf{H} - \\frac{1}{2}\\Delta t^2 \\mathbf{L} \\right)\\mathbf{u}^1 = (I + \\Delta t\\mathbf{H})\\mathbf{f} + \\Delta t \\left( I + \\frac{1}{2}\\Delta t \\mathbf{H}\\right)\\mathbf{g} + \\frac{1}{2}\\Delta t^2 h^1 \\mathbf{q}.$$\n",
    "Which we solve for $\\mathbf{u}^1$."
   ]
  },
  {
   "cell_type": "markdown",
   "metadata": {},
   "source": [
    "#### Notes\n",
    "In 1D, these matrices are fairly small so we explicitly construct $B_0$ and $B_1$. In general, it is far more efficient to solve the linear system at each time step. Moreover, because we can efficiently compute matrix-vector multiplication by $\\mathbf{H}$ and $\\mathbf{L}$, it proves to be much more practical to solve these linear systems iteratively using [preconditioned GMRES](https://en.wikipedia.org/wiki/Generalized_minimal_residual_method#:~:text=In%20mathematics%2C%20the%20generalized%20minimal,Krylov%20subspace%20with%20minimal%20residual.). If we implement this spectral method with the fast cosine transform and use a good preconditioner for the linear system, we would have a very efficient and scalable wave equation solver.\n",
    "\n",
    "The time stepping strategy described here is an [implicit multistep method](https://en.wikipedia.org/wiki/Linear_multistep_method). This method is derived by constructing a quadratic polynomial which interpolates $u^{n-1}, u^n,$ and $u^{n+1}$ and requiring the differential equation to be satisfied at $t+\\Delta t$. The time discretization errors are second order, that is the errors are on the order of $\\Delta t^2$. This method is stable for any $\\Delta t$. We could have constructed an explicit multistep method which would not require us to solve any linear systems, but such methods have a time step restriction. For the wave equation, we require $\\Delta t \\leq \\frac{1}{N^2}$ using explicit methods, hence here we prefer an implicit method. Multistep methods are very efficient, however, they are famously limited by the Dahlquist barriers which state that implicit multistep methods of third order or higher are not [A-stable](https://en.wikipedia.org/wiki/Stiff_equation#A-stability). These barriers prove to be very restrictive for the wave equation. Nevertheless, higher order multistep methods can be constructed with only a moderate time step restriction. More generally, [Runge Kutta](https://en.wikipedia.org/wiki/Runge–Kutta_methods) methods can be used."
   ]
  },
  {
   "cell_type": "code",
   "execution_count": 1,
   "metadata": {},
   "outputs": [],
   "source": [
    "import numpy as np\n",
    "import matplotlib.pyplot as plt\n",
    "\n",
    "from numpy.linalg import solve\n",
    "from scipy.linalg import lu_factor, lu_solve\n",
    "import scipy.sparse as sp\n",
    "\n",
    "from cheb import *"
   ]
  },
  {
   "cell_type": "markdown",
   "metadata": {},
   "source": [
    "## Example \n",
    "$$a(x) = \\frac{11}{10} - (4x)^5 (1 - x)^5, \\qquad h(t) = \\cos(5\\pi t),$$\n",
    "$$f(x) = e^{-x}, \\qquad g(x) = 0.$$\n"
   ]
  },
  {
   "cell_type": "code",
   "execution_count": 2,
   "metadata": {},
   "outputs": [],
   "source": [
    "# setup\n",
    "a = lambda x: 1.1 - (4*x)**5 * (1 - x)**5\n",
    "h = lambda t: np.cos(5 * np.pi * t)\n",
    "f = lambda x: np.exp(-x)\n",
    "g = lambda x: np.zeros_like(x)\n",
    "\n",
    "T = 2"
   ]
  },
  {
   "cell_type": "code",
   "execution_count": 3,
   "metadata": {},
   "outputs": [],
   "source": [
    "nt = T * 60 # 60 frames per second\n",
    "dt = T / nt\n",
    "\n",
    "Nx = 64\n",
    "x = chebyshev_lobatto_grid(0, 1, Nx)\n",
    "D = diff_matrix(x)\n",
    "\n",
    "I = np.eye(Nx)\n",
    "e0 = I[:, 0]\n",
    "eN = I[:, -1]\n",
    "P = I[:, 1:]\n",
    "\n",
    "A = np.diag(a(x))\n",
    "L = D @ A @ (I - np.outer(eN, eN)) @ D\n",
    "\n",
    "q = P.T @ (L @ e0)\n",
    "L = P.T @ L @ P\n",
    "\n",
    "H = P.T @ D @ np.outer(eN, eN) @ P\n",
    "\n",
    "I = np.eye(Nx-1)\n",
    "lu = lu_factor(I + (1.5 * dt) * H - dt**2 * L)\n",
    "B0 = lu_solve(lu, I + dt * H)\n",
    "B1 = lu_solve(lu, I + 0.5 * dt * H)\n",
    "r = lu_solve(lu, q)"
   ]
  },
  {
   "cell_type": "code",
   "execution_count": 4,
   "metadata": {},
   "outputs": [],
   "source": [
    "# um <- u[n-1],  u <- u[n],   up <- u[n+1]\n",
    "\n",
    "# for visualization we will store all of the solutions in U\n",
    "U = list()\n",
    "\n",
    "# zero time step\n",
    "t = 0\n",
    "um = P.T @ f(x)\n",
    "\n",
    "U.append(P @ um + h(0) * e0)\n",
    "\n",
    "# first time step\n",
    "t += dt\n",
    "b = (I + dt * H) @ um + dt * (I + 0.5 * dt * H) @ P.T @ g(x) + (0.5 * dt**2 * h(t)) * q\n",
    "u = solve(I + dt * H - 0.5 * dt**2 * L, b)\n",
    "\n",
    "U.append(P @ u + h(t) * e0)\n",
    "\n",
    "# all time steps\n",
    "for n in range(2, nt+1):\n",
    "  t += dt\n",
    "  up = 2 * B0 @ u - B1 @ um + (dt**2 * h(t)) * r\n",
    "\n",
    "  U.append(P @ up + h(t) * e0)\n",
    "\n",
    "  # for the next time step, um = u and u = up\n",
    "  um = u\n",
    "  u = up"
   ]
  },
  {
   "cell_type": "code",
   "execution_count": 5,
   "metadata": {},
   "outputs": [
    {
     "data": {
      "image/png": "[encoded data removed]",
      "text/plain": [
       "<Figure size 800x200 with 4 Axes>"
      ]
     },
     "metadata": {},
     "output_type": "display_data"
    }
   ],
   "source": [
    "# This cell plots the solution for four evenly spaced times in the interval [0, T]\n",
    "\n",
    "fig, ax = plt.subplots(1,4, figsize=(8,2))\n",
    "for i in range(4):\n",
    "  ax[i].plot(x, U[i * len(U) // 4], '.-')\n",
    "  ax[i].set_ylim([-1.5,1.5])\n",
    "  ax[i].set_xticks([])\n",
    "  ax[i].set_yticks([])\n",
    "fig.tight_layout()"
   ]
  },
  {
   "cell_type": "code",
   "execution_count": 6,
   "metadata": {},
   "outputs": [],
   "source": [
    "%%capture\n",
    "# ^ this line tells the Jupyter notebook not to show output for this cell\n",
    "\n",
    "## This cell generates an animation of the wave equation. It may take a long time to compute.\n",
    "\n",
    "import matplotlib.animation as animation\n",
    "\n",
    "z = np.linspace(0, 1, 200)\n",
    "P = interpolation_matrix(x, z)\n",
    "\n",
    "fig, ax = plt.subplots(1,1, figsize=(4,4))\n",
    "lines = ax.plot(z, P @ U[0], '-', animated=True)\n",
    "ax.set_ylim([-1.5,1.5])\n",
    "\n",
    "nframes = len(U)\n",
    "\n",
    "def update_fig(it):\n",
    "    print(f\"{it:>5} / {nframes}\", end='\\r')\n",
    "    for (j, line) in enumerate(lines):\n",
    "        line.set_ydata(P @ U[it])\n",
    "    return lines\n",
    "\n",
    "FFwriter = animation.FFMpegWriter(fps=60)\n",
    "ani = animation.FuncAnimation(fig, update_fig, frames=nframes, blit=True)\n",
    "ani.save(\"wave1d.mov\", writer=FFwriter);"
   ]
  },
  {
   "cell_type": "markdown",
   "metadata": {},
   "source": [
    "<video width=\"320\" height=\"320\" controls>\n",
    "  <source src=\"wave1d.mov\" type=\"video/mp4\">\n",
    "</video>"
   ]
  },
  {
   "cell_type": "markdown",
   "metadata": {},
   "source": [
    "# 2D Wave Equation with Spectral Methods\n",
    "\n",
    "Consider the wave equation in two spatial dimensions and time,\n",
    "$$ \\frac{\\partial^2 u}{\\partial t^2} = \\nabla \\cdot (a(x,y) \\nabla u), \\qquad (x,y)\\in[0,1]^2, \\; t > 0.$$\n",
    "\n",
    "Subject to a Dirichlet boundary condtion at $x = 0$,\n",
    "$$u(0, y, t) = h(y, t),$$\n",
    "A robin condition at $x = 1$,\n",
    "$$\\frac{\\partial u}{\\partial t} + a(x, y) \\frac{\\partial u}{\\partial x} \\bigg|_{x=1}= 0,$$\n",
    "and Neumann boundary conditions at $y = 0$ and $y = 1$,\n",
    "$$u_y(x, 0, t) = 0, \\quad u_y(x, 1, t) = 0.$$\n",
    "We also have the initial conditions:\n",
    "$$u(x, y, 0) = f(x, y), \\quad u_t(x, y, 0) = g(x, y).$$"
   ]
  },
  {
   "cell_type": "markdown",
   "metadata": {},
   "source": [
    "## Spatial Discretization\n",
    "Let $x_k$ and $y_{\\ell}$ be Chebyshev Lobatto grids on $[0,1]$ (they may be of different lengths). We choose the interpolation points to be all pairs $(x_k, y_{\\ell})$ for $k=0,\\dots, K$ and $\\ell=0,\\dots, L$. Let $U\\in\\R^{K\\times L}$ be the grid of interpolation values, i.e. $U_{k,\\ell} \\approx u(x_k, y_{\\ell})$ (note that $U$ is a matrix). It will prove useful to work with vectors rather than grids, so let $\\vec{u}\\in\\R^{KL}$ be the vectorization of $U$ meaning\n",
    "$$u_{k + K\\ell} = U_{k,\\ell}.$$\n",
    "Let $\\mathcal{D}_x$ be the differentiation matrix on associated with grid $x_k$ and let $\\mathcal{D}_y$ be the differentiation matrix associated with grid $y_k$. Without proof, we claim that\n",
    "$$\\frac{\\partial u}{\\partial x} = \\mathcal{D}_x U.$$\n",
    "and\n",
    "$$\\frac{\\partial u}{\\partial y} = U D_y^T.$$\n",
    "That is, the derivative with respect to $x$ is computed by left multiplication of $U$ by $\\mathcal{D}_x$ and the derivative with respect to $y$ is computed by right multiplcation of $U$ by the transpose of $\\mathcal{D}_y$. Further, let $D_x = I_L \\otimes \\mathcal{D}_x$ where $I_L$ is the $L\\times L$ identity matrix and $\\otimes$ denotes the [Kronecker product](https://en.wikipedia.org/wiki/Kronecker_product), and let $D_y = \\mathcal{D}_y \\otimes I_K$, then\n",
    "$$\\frac{\\partial u}{\\partial x} = D_x \\vec{u},$$\n",
    "and\n",
    "$$\\frac{\\partial u}{\\partial x} = D_y \\vec{u}.$$\n",
    "Substitute $\\vec{u}$ for $u$, $D_x$ for $\\frac{\\partial}{\\partial x}$, and $D_y$ for $\\frac{\\partial}{\\partial y}$ into the wave equation\n",
    "$$\\frac{d^2\\vec{u}}{dt^2} = \\left(D_x A D_x + D_y A D_y \\right) \\vec{u}$$\n",
    "Here, $A$ is a diagonal matrix whose elements  are the vectorization of $a_{k,\\ell} = a(x_k, y_{\\ell})$. "
   ]
  },
  {
   "cell_type": "markdown",
   "metadata": {},
   "source": [
    "### Boundary Conditions\n",
    "First, we incorporate the Neumann boundary conditions. Define\n",
    "$$\\hat{\\mathcal{D}}_y = (I - \\mathbf{e}_0\\mathbf{e}_0^T - \\mathbf{e}_L\\mathbf{e}_L^T)\\mathcal{D}_y,$$\n",
    "and define the corresponding matrix $\\hat{D}_y$ using the Kronecker product.\n",
    "We substitute this modified differentiation matrix into the differential equation we get:\n",
    "$$\\frac{d^2\\vec{u}}{dt^2} = \\left(D_x A D_x + D_y A \\hat{D}_y \\right) \\vec{u}.$$"
   ]
  },
  {
   "cell_type": "markdown",
   "metadata": {},
   "source": [
    "Next, we incorporate the Robin boundary conditions. Define\n",
    "$$\\hat{\\mathcal{D}}_x = (I - \\mathbf{e}_K\\mathbf{e}_K^T)\\mathcal{D}_x.$$\n",
    "Define the diagonal $L\\times L$ matrix $A_y$ such that $(A_y)_{\\ell,\\ell} = a(1,y_\\ell)$, then\n",
    "$$\\mathcal{D}_x U = \\hat{\\mathcal{D}}_x U - \\mathbf{e}_K \\mathbf{e}_K^T \\dot{U} A_y^{-1}$$\n",
    "Define,\n",
    "$$\\hat{D}_x = I_L \\otimes \\hat{\\mathcal{D}}_x, \\qquad E = A_y^{-1} \\otimes \\mathbf{e}_K\\mathbf{e}_K^T$$\n",
    "Plugging this into the differential equation we get:\n",
    "$$\\frac{d^2\\vec{u}}{dt^2} = (D_x A \\hat{D}_x + D_y A \\hat{D}_y)\\vec{u} - D_x A E \\frac{d\\vec{u}}{dt}.$$"
   ]
  },
  {
   "cell_type": "markdown",
   "metadata": {},
   "source": [
    "Finally, we deal with the Dirichlet boundary condition. Let $P$ be the matrix whose columns are those of the $K\\times K$ identity matrix excluding the first column, $\\mathbf{e}_0$. Let $\\mathbf{u}$ be the solution values not including the Dirichlet values $\\mathbf{h}(t) = \\begin{pmatrix} h(y_0, t) & h(y_1, t) & \\cdots & h(y_N, t) \\end{pmatrix}^T$. This gives us the partition,\n",
    "$$\\vec{u} = (I_L \\otimes P)\\mathbf{u} + (I_L \\otimes \\mathbf{e}_0)\\vec{h}(t).$$\n",
    "We substitute this partition into the differential equation and multiply by $(I_L \\otimes P)^T$ to get a differential equation for $\\mathbf{u}$:\n",
    "$$\\ddot{\\mathbf{u}} = (I_L \\otimes P)^T (D_x A \\hat{D}_x + D_y A \\hat{D}_y)\\left[ (I_L \\otimes P)\\mathbf{u} + (I_L \\otimes \\mathbf{e}_0)\\mathbf{h}(t) \\right] - (I_L \\otimes P)^T D_x A E \\left[ (I_L \\otimes P)\\dot{\\mathbf{u}} + (I_L \\otimes \\mathbf{e}_0)\\dot{\\mathbf{h}} \\right].$$\n",
    "Without proof, it can be verified that $(I_L \\otimes P)^T D_x A E (I_L \\otimes \\mathbf{e}_0) = 0$. Thus,\n",
    "$$\\ddot{\\mathbf{u}} + \\mathbf{H} \\dot{\\mathbf{u}} - \\mathbf{L u} = \\mathbf{Q} \\mathbf{h}(t),$$\n",
    "where (using properties of the Kronecker product),\n",
    "$$\\begin{align*}\n",
    "\\mathbf{H} &= (I_L \\otimes P)^T D_x A E (I_L \\otimes P) \\\\\n",
    "&= \\left[I_L \\otimes (P^T \\mathcal{D}_x)\\right] A \\left[A_y^{-1} \\otimes (\\mathbf{e}_K\\mathbf{e}_K^T P)\\right],\n",
    "\\end{align*}$$\n",
    "$$\\begin{align*}\n",
    "\\mathbf{L} &= (I_L \\otimes P)^T (D_x A \\hat{D}_x + D_y A \\hat{D}_y) (I_L \\otimes P) \\\\\n",
    "&= [I_L \\otimes (P^T \\mathcal{D}_x)] A [I_L \\otimes (\\hat{\\mathcal{D}}_x P)] + (\\mathcal{D}_y \\otimes P^T) A (\\hat{\\mathcal{D}}_y \\otimes P),\n",
    "\\end{align*}$$\n",
    "and\n",
    "$$\\begin{align*}\n",
    "\\mathbf{Q} &= (I_L \\otimes P)^T (D_x A \\hat{D}_x + D_y A \\hat{D}_y) (I_L \\otimes \\mathbf{e}_0) \\\\\n",
    "&= [I_L \\otimes (P^T \\mathcal{D}_x)] A [I_L \\otimes (\\hat{\\mathcal{D}}_x \\mathbf{e}_0)] + (\\mathcal{D}_y \\otimes P^T) A (\\hat{\\mathcal{D}}_y \\otimes \\mathbf{e}_0).\n",
    "\\end{align*}$$\n",
    "Note that this differential equation looks _very_ similar to the 1D case..."
   ]
  },
  {
   "cell_type": "markdown",
   "metadata": {},
   "source": [
    "#### Notes\n",
    "The Kronecker product is used mostly for formality here so we can work with vectors. In a practical implementation we can work directly with the arrays and apply the operators by left and right matrix multiplications. Again, we can implement this efficiently with the two dimensional fast cosine transform."
   ]
  },
  {
   "cell_type": "markdown",
   "metadata": {},
   "source": [
    "## Time Integration\n",
    "\n",
    "Since we are solving essentially the same system in time as we did in 1D, we use the same time stepping scheme, which we restate here.\n",
    "\n",
    "Initialize\n",
    "\n",
    "$$\\mathbf{u}^0 = \\mathbf{f}.$$\n",
    "\n",
    "First time step, solve for $\\mathbf{u}^1$:\n",
    "$$\\left( I + \\Delta t \\mathbf{H} - \\frac{1}{2}\\Delta t^2 \\mathbf{L} \\right)\\mathbf{u}^1 = (I + \\Delta t\\mathbf{H})\\mathbf{f} + \\Delta t \\left( I + \\frac{1}{2}\\Delta t \\mathbf{H}\\right)\\mathbf{g} + \\frac{1}{2}\\Delta t^2 \\mathbf{Q}\\mathbf{h}^1.$$\n",
    "\n",
    "For $n = 1, 2, \\dots$ solve for $\\mathbf{u}^{n+1}$:\n",
    "\n",
    "\n",
    "$$\\left(I + \\frac{3}{2}\\Delta t \\mathbf{H} - \\Delta t^2 \\mathbf{L} \\right)\\mathbf{u}^{n+1} = 2(I + \\Delta t \\mathbf{H})\\mathbf{u}^n - \\left( I + \\frac{1}{2}\\Delta t \\mathbf{H} \\right)\\mathbf{u}^{n-1} + \\Delta t^2 \\mathbf{Q}\\mathbf{h}^{n+1}.$$"
   ]
  },
  {
   "cell_type": "markdown",
   "metadata": {},
   "source": [
    "## Example\n",
    "\n",
    "$$a(x, y) = \\frac{11}{10} - e^{-(\\frac{10 y - \\frac{5}{2}x^2 - 5}{x + 1})^2}, \\qquad h(y, t) = e^{-(8y-4)^2} \\sin 15t,$$\n",
    "$$f(x, y) = 0, \\qquad g(x, y) = 0.$$"
   ]
  },
  {
   "cell_type": "code",
   "execution_count": 7,
   "metadata": {},
   "outputs": [],
   "source": [
    "# problem setup\n",
    "a = lambda x, y: 1.1 - np.exp(-((10*y - 2.5*x**2 - 5) / (x + 1))**2)\n",
    "f = lambda x, y: np.zeros_like(x)\n",
    "g = lambda x, y: np.zeros_like(x)\n",
    "h = lambda y, t: np.exp(-64*(y-0.5)**2) * np.sin(15*t)\n",
    "\n",
    "T = 4"
   ]
  },
  {
   "cell_type": "code",
   "execution_count": 8,
   "metadata": {},
   "outputs": [],
   "source": [
    "nt = T * 120 # 120 frames per second\n",
    "dt = T / nt\n",
    "\n",
    "# setup grid and compute 1D differentation matrices.\n",
    "Nx = 50\n",
    "x = chebyshev_lobatto_grid(0, 1, Nx)\n",
    "Dx = diff_matrix(x)\n",
    "\n",
    "Ny = 64\n",
    "y = chebyshev_lobatto_grid(0, 1, Ny)\n",
    "Dy = diff_matrix(y)\n",
    "\n",
    "# 2D grid\n",
    "X, Y = np.meshgrid(x, y)\n",
    "X = X.reshape(-1)\n",
    "Y = Y.reshape(-1)\n",
    "\n",
    "# variable coefficient\n",
    "A = sp.diags( a(X, Y) )\n",
    "Ay = sp.diags( 1 / a(1, y) )\n",
    "\n",
    "# compute Neumann correct D\n",
    "Ix = np.eye(Nx)\n",
    "Dx_tilde = (Ix - np.outer(Ix[:, -1], Ix[:, -1])) @ Dx\n",
    "\n",
    "Iy = np.eye(Ny)\n",
    "Dy_tilde = (Iy - np.outer(Iy[:, 0], Iy[:, 0]) - np.outer(Iy[:, -1], Iy[:, -1])) @ Dy\n",
    "\n",
    "# compute P\n",
    "P = sp.csr_matrix(Ix[:, 1:])\n",
    "Pr = sp.kron(sp.identity(Ny), P)\n",
    "Pc = sp.kron(sp.identity(Ny), Ix[:,0].reshape(-1,1))\n",
    "\n",
    "# setup L, H, Q\n",
    "e0 = Ix[:, 0].reshape(-1, 1) # make sure e0 is a column vector to work correctly with kron\n",
    "eK = Ix[:, -1]\n",
    "Ix = sp.identity(Nx) # we switch to sparse matrices here to ensure kron is computed quickly\n",
    "Iy = sp.identity(Ny)\n",
    "H = sp.kron(Iy, P.T @ Dx) @ A @ sp.kron(Ay, np.outer(eK, P.T @ eK))\n",
    "L = sp.kron(Iy, P.T @ Dx) @ A @ sp.kron(Iy, Dx_tilde @ P) + sp.kron(Dy, P.T) @ A @ sp.kron(Dy_tilde, P)\n",
    "Q = sp.kron(Iy, P.T @ Dx) @ A @ sp.kron(Iy, Dx_tilde @ e0) + sp.kron(Dy, P.T) @ A @ sp.kron(Dy_tilde, e0)\n",
    "\n",
    "H = H.toarray() # this is to get around using sparse matrices\n",
    "L = L.toarray()\n",
    "Q = Q.toarray()\n",
    "\n",
    "ndof = L.shape[0]\n",
    "I = np.eye(ndof)\n",
    "lu = lu_factor(I + (1.5 * dt) * H - dt**2 * L)\n",
    "B0 = I + dt * H\n",
    "B1 = I + 0.5 * dt * H"
   ]
  },
  {
   "cell_type": "code",
   "execution_count": 9,
   "metadata": {},
   "outputs": [
    {
     "name": "stdout",
     "output_type": "stream",
     "text": [
      "t = 4.00\r"
     ]
    }
   ],
   "source": [
    "# store all time steps in U\n",
    "U = list()\n",
    "\n",
    "# zero time step\n",
    "t = 0\n",
    "um =  Pr.T  @ f(X, Y)\n",
    "\n",
    "U.append( Pr @ um + Pc @ h(y, t) )\n",
    "\n",
    "# first time step\n",
    "t += dt\n",
    "\n",
    "b = B0 @ um\n",
    "b += dt * ( B1 @ (Pr.T @ g(X, Y)) )\n",
    "b += (0.5 * dt**2) * (Q @ h(y, t))\n",
    "\n",
    "u = solve(I + dt * H - (0.5 * dt**2) * L, b)\n",
    "\n",
    "U.append( Pr @ u + Pc @ h(y, t) )\n",
    "\n",
    "# all time steps\n",
    "for n in range(1, nt):\n",
    "  t += dt\n",
    "  print(f\"t = {t:<03.2f}\", end='\\r', flush=True)\n",
    "\n",
    "  b = 2 * (B0 @ u) - B1 @ um + dt**2 * (Q @ h(y, t))\n",
    "  up = lu_solve(lu, b)\n",
    "\n",
    "  U.append( Pr @ up + Pc @ h(y, t) )\n",
    "\n",
    "  um = u\n",
    "  u = up"
   ]
  },
  {
   "cell_type": "code",
   "execution_count": 10,
   "metadata": {},
   "outputs": [
    {
     "data": {
      "image/png": "[encoded data removed]",
      "text/plain": [
       "<Figure size 800x200 with 4 Axes>"
      ]
     },
     "metadata": {},
     "output_type": "display_data"
    }
   ],
   "source": [
    "fig, ax = plt.subplots(1,4, figsize=(8,2))\n",
    "skip = len(U)//4\n",
    "\n",
    "zx = np.linspace(0, 1, 500)\n",
    "zy = np.linspace(0, 1, 500)\n",
    "Px = interpolation_matrix(x, zx)\n",
    "Py = interpolation_matrix(y, zy)\n",
    "\n",
    "for i in range(4):\n",
    "  V = Py @ U[skip * i].reshape((Ny, Nx)) @ Px.T\n",
    "  ax[i].imshow(V, vmin=-1, vmax=1, extent=[0, 1, 0, 1], origin='lower', cmap='seismic')\n",
    "  ax[i].set_xticks([])\n",
    "  ax[i].set_yticks([])\n",
    "  ax[i].set_aspect('equal','box')\n",
    "fig.tight_layout()"
   ]
  },
  {
   "cell_type": "code",
   "execution_count": 11,
   "metadata": {},
   "outputs": [],
   "source": [
    "%%capture\n",
    "\n",
    "# This cell generates a video which may take a long time!\n",
    "\n",
    "fig, ax = plt.subplots(1, 1, figsize=(4,4))\n",
    "im = ax.imshow(Py @ U[0].reshape((Ny, Nx)) @ Px.T, extent=[0, 1, 0, 1], vmin=-1, vmax=1, origin='lower', cmap='seismic')\n",
    "ax.set_aspect('equal','box')\n",
    "\n",
    "nframes = len(U)//2\n",
    "\n",
    "def update_fig(it):\n",
    "  print(f\"{it:>5} / {nframes}\", end='\\r')\n",
    "  V = Py @ U[2*it].reshape((Ny, Nx)) @ Px.T\n",
    "  im.set_data(V)\n",
    "  return im,\n",
    "\n",
    "FFwriter = animation.FFMpegWriter(fps=60)\n",
    "ani = animation.FuncAnimation(fig, update_fig, frames=nframes, blit=True)\n",
    "ani.save(\"wave2d.mov\", writer=FFwriter, dpi=200)"
   ]
  },
  {
   "cell_type": "markdown",
   "metadata": {},
   "source": [
    "<video width=\"320\" height=\"320\" controls>\n",
    "  <source src=\"wave2d.mov\" type=\"video/mp4\">\n",
    "</video>"
   ]
  }
 ],
 "metadata": {
  "kernelspec": {
   "display_name": "base",
   "language": "python",
   "name": "python3"
  },
  "language_info": {
   "codemirror_mode": {
    "name": "ipython",
    "version": 3
   },
   "file_extension": ".py",
   "mimetype": "text/x-python",
   "name": "python",
   "nbconvert_exporter": "python",
   "pygments_lexer": "ipython3",
   "version": "3.11.5"
  }
 },
 "nbformat": 4,
 "nbformat_minor": 2
}
